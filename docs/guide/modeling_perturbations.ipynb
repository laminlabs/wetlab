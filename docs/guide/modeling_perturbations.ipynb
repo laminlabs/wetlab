{
 "cells": [
  {
   "cell_type": "markdown",
   "metadata": {},
   "source": [
    "# Modeling perturbations"
   ]
  },
  {
   "cell_type": "markdown",
   "metadata": {},
   "source": [
    "The :mod:`wetlab` schema is designed to model complex :class:`wetlab.Experiment` of any :class:`wetlab.ExperimentType` that include perturbations in the experimental design.\n",
    "Perturbations are intentional disruptions in biological systems, such as gene knockouts (:class:`wetlab.GeneticTreatment`), drug treatments (:class:`wetlab.CompoundTreatment`), or environmental shifts (:class:`wetlab.EnvironmentalTreatment`), to study their effects on molecular and cellular processes.\n",
    "We refer to perturbations that are applied to a system in an :class:`wetlab.Experiment` as 'treatment'.\n",
    "Such treatments sometimes also have known :class:`TreatmentTarget` which can be one or serveral :class:`bionty.Gene`, :class:`bionty.Pathway`, or :class:`bionty.Protein`.\n",
    "While single treatments are common, it is also possible to combine several treatments into a :class:`CombinationTreatment`."
   ]
  },
  {
   "cell_type": "code",
   "execution_count": null,
   "metadata": {},
   "outputs": [],
   "source": [
    "#! pip install 'lamindb[bionty]' wetlab\n",
    "!lamin init --storage modeling-perturbations --name modeling-perturbations --schema bionty,wetlab"
   ]
  },
  {
   "cell_type": "code",
   "execution_count": null,
   "metadata": {},
   "outputs": [],
   "source": [
    "import bionty as bt\n",
    "import wetlab as wl"
   ]
  },
  {
   "cell_type": "markdown",
   "metadata": {},
   "source": [
    "Gefitinib is primarily a pharmaceutical treatment, specifically a targeted therapy used in cancer treatment, particularly for non-small cell lung cancer (NSCLC).\n",
    "Let's assume that we want to better understand the effectiveness of gefitinib and EGFR/KRAS knockdown combination treatment for people that have a smoking history.\n",
    "In our early experimental setup, we therefore subject mice to smoke."
   ]
  },
  {
   "cell_type": "code",
   "execution_count": null,
   "metadata": {},
   "outputs": [],
   "source": [
    "bt.settings.organism = \"mouse\""
   ]
  },
  {
   "cell_type": "markdown",
   "metadata": {},
   "source": [
    "## Genetic treatments"
   ]
  },
  {
   "cell_type": "markdown",
   "metadata": {},
   "source": [
    "We create two :class:`wl.GeneticTreatment` records associatede with the corresponding :class:`wl.TreatmentTarget`."
   ]
  },
  {
   "cell_type": "code",
   "execution_count": null,
   "metadata": {},
   "outputs": [],
   "source": [
    "EGFR_kd = wl.GeneticTreatment(\n",
    "    system=\"CRISPR Cas9\",\n",
    "    name=\"EGFR knockdown\",\n",
    "    sequence=\"AGCTGACCGTGA\",\n",
    "    on_target_score=85,\n",
    "    off_target_score=15\n",
    ")\n",
    "EGFR_kd.save()"
   ]
  },
  {
   "cell_type": "code",
   "execution_count": null,
   "metadata": {},
   "outputs": [],
   "source": [
    "EGFR_gene = bt.Gene.from_public(symbol=\"EGFR\")\n",
    "EGFR_gene.save()\n",
    "EGFR_kd_target = wl.TreatmentTarget(name=\"EGFR knockdown\")\n",
    "EGFR_kd_target.save()\n",
    "EGFR_kd_target.genes.add(EGFR_gene)"
   ]
  },
  {
   "cell_type": "code",
   "execution_count": null,
   "metadata": {},
   "outputs": [],
   "source": [
    "EGFR_kd.targets.add(EGFR_kd_target)\n",
    "EGFR_kd_target"
   ]
  },
  {
   "cell_type": "code",
   "execution_count": null,
   "metadata": {},
   "outputs": [],
   "source": [
    "KRAS_kd = wl.GeneticTreatment(\n",
    "    system=\"CRISPR Cas9\",\n",
    "    name=\"KRAS\",\n",
    "    sequence=\"TTGGTGGTGAACT\",\n",
    "    on_target_score=100,\n",
    "    off_target_score=20\n",
    ")\n",
    "KRAS_kd.save()"
   ]
  },
  {
   "cell_type": "code",
   "execution_count": null,
   "metadata": {},
   "outputs": [],
   "source": [
    "KRAS_gene = bt.Gene.from_public(symbol=\"KRAS\")\n",
    "KRAS_gene.save()\n",
    "KRAS_kd_target = wl.TreatmentTarget(name=\"KRAS knockdown\")\n",
    "KRAS_kd_target.save()\n",
    "KRAS_kd_target.genes.add(KRAS_gene)"
   ]
  },
  {
   "cell_type": "code",
   "execution_count": null,
   "metadata": {},
   "outputs": [],
   "source": [
    "KRAS_kd.targets.add(KRAS_kd_target)\n",
    "KRAS_kd_target"
   ]
  },
  {
   "cell_type": "markdown",
   "metadata": {},
   "source": [
    "## Compound treatments"
   ]
  },
  {
   "cell_type": "markdown",
   "metadata": {},
   "source": [
    "Next, we create a :class:`wl.CompoundTreatment` records including associated :class:`wl.TreatmentTarget`."
   ]
  },
  {
   "cell_type": "code",
   "execution_count": null,
   "metadata": {},
   "outputs": [],
   "source": [
    "gefitinib = compound_treatment = wl.CompoundTreatment(\n",
    "       name=\"gefitinib\",\n",
    "       pubchem_id=123631,\n",
    "       ontology_id=\"CHEBI:49668\"\n",
    "    )\n",
    "gefitinib.save()"
   ]
  },
  {
   "cell_type": "markdown",
   "metadata": {},
   "source": [
    "Gefitinib is a tyrosine kinase inhibitor (TKI) that specifically targets the epidermal growth factor receptor (EGFR) pathway and the EGFR protein.\n",
    "Therefore, we can also define the :class:`wl.TreatmentTarget` and associate it with a :class:`bionty.Pathway` and :class:`bionty.Protein`."
   ]
  },
  {
   "cell_type": "code",
   "execution_count": null,
   "metadata": {},
   "outputs": [],
   "source": [
    "egfr_pathway = bt.Pathway.from_public(name=\"epidermal growth factor receptor activity\")\n",
    "egfr_pathway.save()\n",
    "egfr_protein = bt.Protein.from_public(uniprotkb_id=\"Q5SVE7\")\n",
    "egfr_protein.save()\n",
    "egfr_targets = wl.TreatmentTarget(name=\"EGFR treatment targets\")\n",
    "egfr_targets.save()"
   ]
  },
  {
   "cell_type": "code",
   "execution_count": null,
   "metadata": {},
   "outputs": [],
   "source": [
    "egfr_targets.pathways.add(egfr_pathway)\n",
    "egfr_targets.proteins.add(egfr_protein)\n",
    "egfr_targets"
   ]
  },
  {
   "cell_type": "code",
   "execution_count": null,
   "metadata": {},
   "outputs": [],
   "source": [
    "gefitinib.targets.add(egfr_targets)\n",
    "gefitinib"
   ]
  },
  {
   "cell_type": "markdown",
   "metadata": {},
   "source": [
    "## Environmental Treatment"
   ]
  },
  {
   "cell_type": "code",
   "execution_count": null,
   "metadata": {},
   "outputs": [],
   "source": [
    "smoking = wl.EnvironmentalTreatment(name=\"Smoking Status Measurement:\", ontology_id=\"EFO_0006527\")\n",
    "smoking.save()"
   ]
  },
  {
   "cell_type": "markdown",
   "metadata": {},
   "source": [
    "## Combination Treatment"
   ]
  },
  {
   "cell_type": "markdown",
   "metadata": {},
   "source": [
    "Now we can combine all individual treatments into a single combination treatment."
   ]
  },
  {
   "cell_type": "code",
   "execution_count": null,
   "metadata": {},
   "outputs": [],
   "source": [
    "combination_treatment = wl.CombinationTreatment(name=\"gefitinib and EGFR/KRAS knockdown combination treatment subject to smoking\")\n",
    "combination_treatment.save()"
   ]
  },
  {
   "cell_type": "code",
   "execution_count": null,
   "metadata": {},
   "outputs": [],
   "source": [
    "combination_treatment.genetics.set([EGFR_kd, KRAS_kd])\n",
    "combination_treatment.compounds.set([gefitinib])\n",
    "combination_treatment.environmentals.set([smoking])"
   ]
  },
  {
   "cell_type": "code",
   "execution_count": null,
   "metadata": {},
   "outputs": [],
   "source": [
    "combination_treatment"
   ]
  }
 ],
 "metadata": {
  "kernelspec": {
   "display_name": "lamindb",
   "language": "python",
   "name": "python3"
  },
  "language_info": {
   "codemirror_mode": {
    "name": "ipython",
    "version": 3
   },
   "file_extension": ".py",
   "mimetype": "text/x-python",
   "name": "python",
   "nbconvert_exporter": "python",
   "pygments_lexer": "ipython3",
   "version": "3.11.7"
  }
 },
 "nbformat": 4,
 "nbformat_minor": 2
}
