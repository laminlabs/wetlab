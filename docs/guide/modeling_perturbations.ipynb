{
 "cells": [
  {
   "cell_type": "markdown",
   "metadata": {},
   "source": [
    "# Modeling perturbations"
   ]
  },
  {
   "cell_type": "markdown",
   "metadata": {},
   "source": [
    "The wetlab schema is designed to model complex <a href=\"../wetlab.experiment.html\">wetlab.Experiment</a> of any <a href=\"../wetlab.experimenttype.html\">wetlab.ExperimentType</a> that include perturbations in the experimental design.\n",
    "\n",
    "Perturbations, here also termed 'treatment', are intentional disruptions in biological systems, such as <a href=\"../wetlab.genetictreatment.html\">wetlab.GeneticTreatment</a>, <a href=\"../wetlab.compoundtreatment.html\">wetlab.CompoundTreatment</a>, or <a href=\"../wetlab.environmentaltreatment.html\">wetlab.EnvironmentalTreatment</a>, to study their effects on molecular and cellular processes.\n",
    "Such treatments sometimes also have known <a href=\"../wetlab.treatmenttarget.html\">wetlab.TreatmentTarget</a> which can be one or serveral {class}`~docs:bionty.Gene`, {class}`~docs:bionty.Pathway`, or {class}`~docs:bionty.Protein`.\n",
    "While single treatments are common, it is also possible to combine several treatments into a <a href=\"../wetlab.combinationtreatment.html\">wetlab.CombinationTreatment</a>."
   ]
  },
  {
   "cell_type": "code",
   "execution_count": null,
   "metadata": {},
   "outputs": [],
   "source": [
    "#! pip install 'lamindb[bionty]' wetlab\n",
    "!lamin init --storage modeling-perturbations --schema bionty,wetlab"
   ]
  },
  {
   "cell_type": "code",
   "execution_count": null,
   "metadata": {},
   "outputs": [],
   "source": [
    "import bionty as bt\n",
    "import wetlab as wl"
   ]
  },
  {
   "cell_type": "markdown",
   "metadata": {},
   "source": [
    "Gefitinib is primarily a pharmaceutical treatment, specifically a targeted therapy used in cancer treatment, particularly for non-small cell lung cancer (NSCLC).\n",
    "Let's assume that we want to better understand the effectiveness of gefitinib and EGFR/KRAS knockdown combination treatment for people that have a smoking history.\n",
    "In our early experimental setup, we therefore subject mice to smoke."
   ]
  },
  {
   "cell_type": "code",
   "execution_count": null,
   "metadata": {},
   "outputs": [],
   "source": [
    "bt.settings.organism = \"mouse\""
   ]
  },
  {
   "cell_type": "markdown",
   "metadata": {},
   "source": [
    "## Genetic treatments"
   ]
  },
  {
   "cell_type": "markdown",
   "metadata": {},
   "source": [
    "We create two <a href=\"../wetlab.genetictreatment.html\">wetlab.GeneticTreatment</a> records associated with the corresponding <a href=\"../wetlab.treatmenttarget.html\">wetlab.TreatmentTarget</a>."
   ]
  },
  {
   "cell_type": "code",
   "execution_count": null,
   "metadata": {},
   "outputs": [],
   "source": [
    "EGFR_kd = wl.GeneticTreatment(\n",
    "    system=\"CRISPR-Cas9\",\n",
    "    name=\"EGFR knockdown\",\n",
    "    sequence=\"AGCTGACCGTGA\",\n",
    "    on_target_score=85,\n",
    "    off_target_score=15,\n",
    ").save()"
   ]
  },
  {
   "cell_type": "code",
   "execution_count": null,
   "metadata": {},
   "outputs": [],
   "source": [
    "EGFR_gene = bt.Gene.from_source(symbol=\"EGFR\").save()\n",
    "EGFR_kd_target = wl.TreatmentTarget(name=\"EGFR\").save()\n",
    "EGFR_kd_target.genes.add(EGFR_gene)"
   ]
  },
  {
   "cell_type": "code",
   "execution_count": null,
   "metadata": {},
   "outputs": [],
   "source": [
    "EGFR_kd.targets.add(EGFR_kd_target)\n",
    "EGFR_kd_target"
   ]
  },
  {
   "cell_type": "code",
   "execution_count": null,
   "metadata": {},
   "outputs": [],
   "source": [
    "KRAS_kd = wl.GeneticTreatment(\n",
    "    system=\"CRISPR-Cas9\",\n",
    "    name=\"KRAS\",\n",
    "    sequence=\"TTGGTGGTGAACT\",\n",
    "    on_target_score=100,\n",
    "    off_target_score=20,\n",
    ").save()"
   ]
  },
  {
   "cell_type": "code",
   "execution_count": null,
   "metadata": {},
   "outputs": [],
   "source": [
    "KRAS_gene = bt.Gene.from_source(symbol=\"KRAS\").save()\n",
    "KRAS_kd_target = wl.TreatmentTarget(name=\"KRAS\").save()\n",
    "KRAS_kd_target.genes.add(KRAS_gene)"
   ]
  },
  {
   "cell_type": "code",
   "execution_count": null,
   "metadata": {},
   "outputs": [],
   "source": [
    "KRAS_kd.targets.add(KRAS_kd_target)\n",
    "KRAS_kd_target"
   ]
  },
  {
   "cell_type": "markdown",
   "metadata": {},
   "source": [
    "## Compound treatments"
   ]
  },
  {
   "cell_type": "markdown",
   "metadata": {},
   "source": [
    "Next, we create a <a href=\"../wetlab.compoundtreatment.html\">wetlab.CompoundTreatment</a> records including associated <a href=\"../wetlab.treatmenttarget.html\">wetlab.TreatmentTarget</a>."
   ]
  },
  {
   "cell_type": "code",
   "execution_count": null,
   "metadata": {},
   "outputs": [],
   "source": [
    "gefitinib = compound_treatment = wl.CompoundTreatment(\n",
    "    name=\"gefitinib\",\n",
    ").save()"
   ]
  },
  {
   "cell_type": "markdown",
   "metadata": {},
   "source": [
    "Gefitinib is a tyrosine kinase inhibitor (TKI) that specifically targets the epidermal growth factor receptor (EGFR) pathway and the EGFR protein.\n",
    "Therefore, we can also define the <a href=\"../wetlab.treatmenttarget.html\"> and associate it with a :class:`bionty.Pathway` and :class:`bionty.Protein`."
   ]
  },
  {
   "cell_type": "code",
   "execution_count": null,
   "metadata": {},
   "outputs": [],
   "source": [
    "egfr_pathway = bt.Pathway.from_source(\n",
    "    name=\"epidermal growth factor receptor activity\"\n",
    ").save()\n",
    "egfr_protein = bt.Protein.from_source(uniprotkb_id=\"Q5SVE7\").save()\n",
    "egfr_targets = wl.TreatmentTarget(name=\"EGFR\").save()\n",
    "egfr_targets.pathways.add(egfr_pathway)\n",
    "egfr_targets.proteins.add(egfr_protein)\n",
    "egfr_targets"
   ]
  },
  {
   "cell_type": "code",
   "execution_count": null,
   "metadata": {},
   "outputs": [],
   "source": [
    "gefitinib.targets.add(egfr_targets)\n",
    "gefitinib"
   ]
  },
  {
   "cell_type": "markdown",
   "metadata": {},
   "source": [
    "## Environmental Treatment"
   ]
  },
  {
   "cell_type": "code",
   "execution_count": null,
   "metadata": {},
   "outputs": [],
   "source": [
    "smoking = wl.EnvironmentalTreatment(\n",
    "    name=\"smoking status measurement\", ontology_id=\"EFO:0006527\"\n",
    ").save()"
   ]
  },
  {
   "cell_type": "markdown",
   "metadata": {},
   "source": [
    "## Combination Treatment"
   ]
  },
  {
   "cell_type": "markdown",
   "metadata": {},
   "source": [
    "Now we can combine all individual treatments into a single <a href=\"../wetlab.combinationtreatment.html\">wetlab.CombinationTreatment</a>."
   ]
  },
  {
   "cell_type": "code",
   "execution_count": null,
   "metadata": {},
   "outputs": [],
   "source": [
    "combination_treatment = wl.CombinationTreatment(\n",
    "    name=\"gefitinib and EGFR/KRAS knockdown combination treatment subject to smoking\"\n",
    ").save()\n",
    "combination_treatment.genetics.set([EGFR_kd, KRAS_kd])\n",
    "combination_treatment.compounds.add(gefitinib)\n",
    "combination_treatment.environmentals.add(smoking)"
   ]
  },
  {
   "cell_type": "code",
   "execution_count": null,
   "metadata": {},
   "outputs": [],
   "source": [
    "combination_treatment"
   ]
  }
 ],
 "metadata": {
  "kernelspec": {
   "display_name": "py310",
   "language": "python",
   "name": "python3"
  },
  "language_info": {
   "codemirror_mode": {
    "name": "ipython",
    "version": 3
   },
   "file_extension": ".py",
   "mimetype": "text/x-python",
   "name": "python",
   "nbconvert_exporter": "python",
   "pygments_lexer": "ipython3",
   "version": "3.10.13"
  }
 },
 "nbformat": 4,
 "nbformat_minor": 2
}
