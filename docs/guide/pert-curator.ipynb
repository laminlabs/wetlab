{
 "cells": [
  {
   "cell_type": "markdown",
   "metadata": {},
   "source": [
    "# PertCurator"
   ]
  },
  {
   "cell_type": "markdown",
   "metadata": {},
   "source": [
    "Here we use `PertCurator` to curate perturbation related columns in a subsetted `AnnData` object of [McFarland et al. 2020](https://www.nature.com/articles/s41467-020-17440-w)."
   ]
  },
  {
   "cell_type": "code",
   "execution_count": null,
   "metadata": {},
   "outputs": [],
   "source": [
    "# pip install 'lamindb[jupyter,wetlab]' cellxgene-lamin\n",
    "!lamin init --storage ./test-pert-curator --modules bionty,wetlab"
   ]
  },
  {
   "cell_type": "code",
   "execution_count": null,
   "metadata": {
    "tags": [
     "hide-output"
    ]
   },
   "outputs": [],
   "source": [
    "import lamindb as ln\n",
    "import wetlab as wl\n",
    "import bionty as bt\n",
    "import pandas as pd\n",
    "\n",
    "ln.track()"
   ]
  },
  {
   "cell_type": "code",
   "execution_count": null,
   "metadata": {},
   "outputs": [],
   "source": [
    "adata = ln.Artifact.using(\"laminlabs/lamindata\").get(uid=\"Xk7Qaik9vBLV4PKf0001\").load()\n",
    "adata.obs.head()"
   ]
  },
  {
   "cell_type": "markdown",
   "metadata": {},
   "source": [
    "## Curate and register perturbations\n",
    "\n",
    "Required columns:\n",
    "- Either \"pert_target\" or \"pert_name\" and \"pert_type\" (\"pert_type\" allows: \"genetic\", \"drug\", \"biologic\", \"physical\")\n",
    "- If pert_dose = True (default), requires \"pert_dose\" in form of number+unit. E.g. 10.0nM\n",
    "- If pert_time = True (default), requires \"pert_time\" in form of number+unit. E.g. 10.0h"
   ]
  },
  {
   "cell_type": "code",
   "execution_count": null,
   "metadata": {},
   "outputs": [],
   "source": [
    "# rename the columns to match the expected format\n",
    "adata.obs[\"pert_time\"] = adata.obs[\"time\"].apply(\n",
    "    lambda x: str(x).split(\", \")[-1] + \"h\" if pd.notna(x) else x\n",
    ")  # we only take the last timepoint\n",
    "adata.obs[\"pert_dose\"] = adata.obs[\"dose_value\"].map(\n",
    "    lambda x: f\"{x}{adata.obs['dose_unit'].iloc[0]}\" if pd.notna(x) else None\n",
    ")\n",
    "adata.obs.rename(\n",
    "    columns={\"perturbation\": \"pert_name\", \"perturbation_type\": \"pert_type\"},\n",
    "    inplace=True,\n",
    ")\n",
    "# fix the perturbation type as suggested by the curator\n",
    "adata.obs[\"pert_type\"] = adata.obs[\"pert_type\"].cat.rename_categories(\n",
    "    {\"CRISPR\": \"genetic\", \"drug\": \"compound\"}\n",
    ")\n",
    "\n",
    "adata.obs[\"tissue_type\"] = \"cell culture\""
   ]
  },
  {
   "cell_type": "code",
   "execution_count": null,
   "metadata": {
    "tags": [
     "hide-output"
    ]
   },
   "outputs": [],
   "source": [
    "curator = wl.PertCurator(adata)"
   ]
  },
  {
   "cell_type": "code",
   "execution_count": null,
   "metadata": {
    "tags": [
     "hide-output"
    ]
   },
   "outputs": [],
   "source": [
    "curator.validate()"
   ]
  },
  {
   "cell_type": "markdown",
   "metadata": {},
   "source": [
    "### Genetic perturbations"
   ]
  },
  {
   "cell_type": "code",
   "execution_count": null,
   "metadata": {
    "tags": [
     "hide-output"
    ]
   },
   "outputs": [],
   "source": [
    "# register genetic perturbations with their target genes\n",
    "pert_target_map = {\n",
    "    \"sggpx4-1\": \"GPX4\",\n",
    "    \"sggpx4-2\": \"GPX4\",\n",
    "    \"sgor2j2\": \"OR2J2\",  # cutting control\n",
    "}\n",
    "\n",
    "ln.settings.creation.search_names = False\n",
    "for sg_name, gene_symbol in pert_target_map.items():\n",
    "    pert = wl.GeneticPerturbation.filter(\n",
    "        system=\"CRISPR-Cas9\", name=sg_name\n",
    "    ).one_or_none()\n",
    "    if pert is None:\n",
    "        pert = wl.GeneticPerturbation(\n",
    "            system=\"CRISPR-Cas9\",\n",
    "            name=sg_name,\n",
    "            description=\"cutting control\" if sg_name == \"sgor2j2\" else None,\n",
    "        ).save()\n",
    "    target = wl.PerturbationTarget.filter(name=gene_symbol).one_or_none()\n",
    "    if target is None:\n",
    "        target = wl.PerturbationTarget(name=gene_symbol).save()\n",
    "    pert.targets.add(target)\n",
    "    genes = bt.Gene.filter(symbol=gene_symbol).all()\n",
    "    if len(genes) == 0:\n",
    "        genes = bt.Gene.from_values(\n",
    "            [gene_symbol], field=bt.Gene.symbol, organism=\"human\"\n",
    "        ).save()\n",
    "    target.genes.add(*genes)\n",
    "ln.settings.creation.search_names = True\n",
    "\n",
    "adata.obs[\"pert_target\"] = adata.obs[\"pert_genetic\"].map(pert_target_map)\n",
    "\n",
    "# register the negative control without targets: Non-cutting control\n",
    "wl.GeneticPerturbation(\n",
    "    name=\"sglacz\", system=\"CRISPR-Cas9\", description=\"non-cutting control\"\n",
    ").save();"
   ]
  },
  {
   "cell_type": "markdown",
   "metadata": {},
   "source": [
    "### Compounds"
   ]
  },
  {
   "cell_type": "code",
   "execution_count": null,
   "metadata": {
    "tags": [
     "hide-output"
    ]
   },
   "outputs": [],
   "source": [
    "# the remaining compounds are not in CHEBI and we create records for them\n",
    "curator.add_new_from(\"pert_compound\")"
   ]
  },
  {
   "cell_type": "markdown",
   "metadata": {},
   "source": [
    "## Curate non-pert metadata"
   ]
  },
  {
   "cell_type": "code",
   "execution_count": null,
   "metadata": {
    "tags": [
     "hide-output"
    ]
   },
   "outputs": [],
   "source": [
    "# manually fix sex and set assay\n",
    "adata.obs[\"sex\"] = adata.obs[\"sex\"].astype(str).str.lower()\n",
    "adata.obs[\"assay\"] = \"10x 3' v3\"\n",
    "\n",
    "# subset the adata to only include the validated genes\n",
    "adata = adata[:, ~adata.var_names.isin(curator.non_validated[\"var_index\"])].copy()\n",
    "\n",
    "# standardize disease and sex as suggested\n",
    "curator.standardize(\"disease\")"
   ]
  },
  {
   "cell_type": "code",
   "execution_count": null,
   "metadata": {
    "tags": [
     "hide-output"
    ]
   },
   "outputs": [],
   "source": [
    "# Recreate Curator object because we are using a new adata\n",
    "curator = wl.PertCurator(adata)\n",
    "curator.validate()"
   ]
  },
  {
   "cell_type": "code",
   "execution_count": null,
   "metadata": {
    "tags": [
     "hide-output"
    ]
   },
   "outputs": [],
   "source": [
    "curator.add_new_from(\"all\")"
   ]
  },
  {
   "cell_type": "code",
   "execution_count": null,
   "metadata": {
    "tags": [
     "hide-output"
    ]
   },
   "outputs": [],
   "source": [
    "curator.validate()"
   ]
  },
  {
   "cell_type": "markdown",
   "metadata": {},
   "source": [
    "## References"
   ]
  },
  {
   "cell_type": "code",
   "execution_count": null,
   "metadata": {},
   "outputs": [],
   "source": [
    "reference = ln.Reference(\n",
    "    name=\"Multiplexed single-cell transcriptional response profiling to define cancer vulnerabilities and therapeutic mechanism of action\",\n",
    "    abbr=\"McFarland 2020\",\n",
    "    url=\"https://www.nature.com/articles/s41467-020-17440-w\",\n",
    "    doi=\"10.1038/s41467-020-17440-w\",\n",
    "    text=(\n",
    "        \"Assays to study cancer cell responses to pharmacologic or genetic perturbations are typically \"\n",
    "        \"restricted to using simple phenotypic readouts such as proliferation rate. Information-rich assays, \"\n",
    "        \"such as gene-expression profiling, have generally not permitted efficient profiling of a given \"\n",
    "        \"perturbation across multiple cellular contexts. Here, we develop MIX-Seq, a method for multiplexed \"\n",
    "        \"transcriptional profiling of post-perturbation responses across a mixture of samples with single-cell \"\n",
    "        \"resolution, using SNP-based computational demultiplexing of single-cell RNA-sequencing data. We show \"\n",
    "        \"that MIX-Seq can be used to profile responses to chemical or genetic perturbations across pools of 100 \"\n",
    "        \"or more cancer cell lines. We combine it with Cell Hashing to further multiplex additional experimental \"\n",
    "        \"conditions, such as post-treatment time points or drug doses. Analyzing the high-content readout of \"\n",
    "        \"scRNA-seq reveals both shared and context-specific transcriptional response components that can identify \"\n",
    "        \"drug mechanism of action and enable prediction of long-term cell viability from short-term transcriptional \"\n",
    "        \"responses to treatment.\"\n",
    "    ),\n",
    ").save()"
   ]
  },
  {
   "cell_type": "markdown",
   "metadata": {},
   "source": [
    "## Register curated artifact"
   ]
  },
  {
   "cell_type": "code",
   "execution_count": null,
   "metadata": {
    "tags": [
     "hide-output"
    ]
   },
   "outputs": [],
   "source": [
    "artifact = curator.save_artifact(key=\"mini_mcFarland20.h5ad\")"
   ]
  },
  {
   "cell_type": "code",
   "execution_count": null,
   "metadata": {},
   "outputs": [],
   "source": [
    "# link the reference to the artifact\n",
    "artifact.references.add(reference)"
   ]
  },
  {
   "cell_type": "code",
   "execution_count": null,
   "metadata": {},
   "outputs": [],
   "source": [
    "artifact.describe()"
   ]
  }
 ],
 "metadata": {
  "kernelspec": {
   "display_name": "py310",
   "language": "python",
   "name": "python3"
  },
  "language_info": {
   "codemirror_mode": {
    "name": "ipython",
    "version": 3
   },
   "file_extension": ".py",
   "mimetype": "text/x-python",
   "name": "python",
   "nbconvert_exporter": "python",
   "pygments_lexer": "ipython3",
   "version": "3.10.13"
  }
 },
 "nbformat": 4,
 "nbformat_minor": 2
}
